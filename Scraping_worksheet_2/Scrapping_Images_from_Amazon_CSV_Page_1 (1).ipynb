{
 "cells": [
  {
   "cell_type": "code",
   "execution_count": 1,
   "metadata": {},
   "outputs": [],
   "source": [
    "import selenium\n",
    "import pandas as pd\n",
    "from selenium import webdriver\n",
    "import os"
   ]
  },
  {
   "cell_type": "code",
   "execution_count": 2,
   "metadata": {},
   "outputs": [],
   "source": [
    "driver=webdriver.Chrome('D:\\Desktop4\\DataFiles\\Web_scaping\\chromedriver.exe')    "
   ]
  },
  {
   "cell_type": "code",
   "execution_count": 3,
   "metadata": {},
   "outputs": [
    {
     "name": "stdout",
     "output_type": "stream",
     "text": [
      "Scrapped done\n"
     ]
    }
   ],
   "source": [
    "http_address=\"https://www.amazon.in/s/ref=mega_elec_s23_2_2_2_3?rh=i%3Acomputers%2Cn%3A1375420031&ie=UTF8\"\n",
    "product_data = {}\n",
    "product_data['prices']=[]\n",
    "product_data['brands']=[]\n",
    "        \n",
    "driver.get(http_address)\n",
    "prices = driver.find_elements_by_xpath(\"//div[@class='a-section octopus-pc-asin-info-section']//span[@class='a-price-whole']\")   \n",
    "brands = driver.find_elements_by_xpath(\"//div[@class='a-section octopus-pc-asin-info-section']//span[@class='a-size-base a-color-base']\")\n",
    "\n",
    "for price in prices:\n",
    "    actual_price = price.text\n",
    "    s = actual_price.replace(',', '')\n",
    "    product_data['prices'].append(s)\n",
    "        \n",
    "for brand in brands:\n",
    "    product_data['brands'].append(brand.text)        \n",
    "\n",
    "            \n",
    "print(\"Scrapped done\")    \n",
    "    \n",
    "df=pd.DataFrame(product_data)\n",
    "df.to_csv(\"product_data222.csv\", mode=\"a\", encoding= 'utf-8-sig')     "
   ]
  },
  {
   "cell_type": "code",
   "execution_count": 4,
   "metadata": {},
   "outputs": [
    {
     "data": {
      "text/plain": [
       "64"
      ]
     },
     "execution_count": 4,
     "metadata": {},
     "output_type": "execute_result"
    }
   ],
   "source": [
    "len(prices)"
   ]
  },
  {
   "cell_type": "code",
   "execution_count": 5,
   "metadata": {},
   "outputs": [
    {
     "data": {
      "text/plain": [
       "64"
      ]
     },
     "execution_count": 5,
     "metadata": {},
     "output_type": "execute_result"
    }
   ],
   "source": [
    "len(brands)"
   ]
  },
  {
   "cell_type": "code",
   "execution_count": 6,
   "metadata": {},
   "outputs": [],
   "source": [
    "# import re\n",
    "# for price in prices:\n",
    "#     actual_price = price.text\n",
    "#     s = actual_price.replace(',','')\n",
    "#     print(s)    \n",
    "#     print(type(s))\n",
    "#     s2 = int(s)\n",
    "#     print(type(s2))"
   ]
  },
  {
   "cell_type": "code",
   "execution_count": null,
   "metadata": {},
   "outputs": [],
   "source": []
  }
 ],
 "metadata": {
  "kernelspec": {
   "display_name": "Python 3",
   "language": "python",
   "name": "python3"
  },
  "language_info": {
   "codemirror_mode": {
    "name": "ipython",
    "version": 3
   },
   "file_extension": ".py",
   "mimetype": "text/x-python",
   "name": "python",
   "nbconvert_exporter": "python",
   "pygments_lexer": "ipython3",
   "version": "3.6.5"
  }
 },
 "nbformat": 4,
 "nbformat_minor": 4
}
