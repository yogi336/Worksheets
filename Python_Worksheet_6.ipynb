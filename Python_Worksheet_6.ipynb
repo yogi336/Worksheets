{
  "nbformat": 4,
  "nbformat_minor": 0,
  "metadata": {
    "colab": {
      "name": "Python_Worksheet_6.ipynb",
      "provenance": []
    },
    "kernelspec": {
      "name": "python3",
      "display_name": "Python 3"
    }
  },
  "cells": [
    {
      "cell_type": "markdown",
      "metadata": {
        "id": "VR7Gl4p5s9t_"
      },
      "source": [
        "**Ans.11**"
      ]
    },
    {
      "cell_type": "code",
      "metadata": {
        "id": "M56--6nOsdtY",
        "outputId": "99032006-5eaf-4370-b60f-82b0e805de1c",
        "colab": {
          "base_uri": "https://localhost:8080/",
          "height": 360
        }
      },
      "source": [
        "import pandas as pd \n",
        "import numpy as np \n",
        "\n",
        "exam_data = {'name': ['Anastasia', 'Dima', 'Katherine', 'James', 'Emily', 'Michael', 'Matthew', 'Laura', 'Kevin', 'Jonas'], \n",
        "             'score': [12.5, 9, 16.5, np.nan, 9, 20, 14.5, np.nan, 8, 19], \n",
        "             'attempts': [1, 3, 2, 3, 2, 3, 1, 1, 2, 1], \n",
        "             'qualify': ['yes', 'no', 'yes', 'no', 'no', 'yes', 'yes', 'no', 'no', 'yes']}\n",
        "\n",
        "labels = ['I','II','III','IV','V', 'VI', 'VII', 'VIII', 'IX', 'X'] \n",
        "df = pd.DataFrame(exam_data , index=labels)\n",
        "df\n",
        "# df = pd.DataFrame.from_dict(exam_data)\n",
        "# df['labels'] = labels\n",
        "# df.set_index('labels', inplace=False)\n",
        "# df"
      ],
      "execution_count": 10,
      "outputs": [
        {
          "output_type": "execute_result",
          "data": {
            "text/html": [
              "<div>\n",
              "<style scoped>\n",
              "    .dataframe tbody tr th:only-of-type {\n",
              "        vertical-align: middle;\n",
              "    }\n",
              "\n",
              "    .dataframe tbody tr th {\n",
              "        vertical-align: top;\n",
              "    }\n",
              "\n",
              "    .dataframe thead th {\n",
              "        text-align: right;\n",
              "    }\n",
              "</style>\n",
              "<table border=\"1\" class=\"dataframe\">\n",
              "  <thead>\n",
              "    <tr style=\"text-align: right;\">\n",
              "      <th></th>\n",
              "      <th>name</th>\n",
              "      <th>score</th>\n",
              "      <th>attempts</th>\n",
              "      <th>qualify</th>\n",
              "    </tr>\n",
              "  </thead>\n",
              "  <tbody>\n",
              "    <tr>\n",
              "      <th>I</th>\n",
              "      <td>Anastasia</td>\n",
              "      <td>12.5</td>\n",
              "      <td>1</td>\n",
              "      <td>yes</td>\n",
              "    </tr>\n",
              "    <tr>\n",
              "      <th>II</th>\n",
              "      <td>Dima</td>\n",
              "      <td>9.0</td>\n",
              "      <td>3</td>\n",
              "      <td>no</td>\n",
              "    </tr>\n",
              "    <tr>\n",
              "      <th>III</th>\n",
              "      <td>Katherine</td>\n",
              "      <td>16.5</td>\n",
              "      <td>2</td>\n",
              "      <td>yes</td>\n",
              "    </tr>\n",
              "    <tr>\n",
              "      <th>IV</th>\n",
              "      <td>James</td>\n",
              "      <td>NaN</td>\n",
              "      <td>3</td>\n",
              "      <td>no</td>\n",
              "    </tr>\n",
              "    <tr>\n",
              "      <th>V</th>\n",
              "      <td>Emily</td>\n",
              "      <td>9.0</td>\n",
              "      <td>2</td>\n",
              "      <td>no</td>\n",
              "    </tr>\n",
              "    <tr>\n",
              "      <th>VI</th>\n",
              "      <td>Michael</td>\n",
              "      <td>20.0</td>\n",
              "      <td>3</td>\n",
              "      <td>yes</td>\n",
              "    </tr>\n",
              "    <tr>\n",
              "      <th>VII</th>\n",
              "      <td>Matthew</td>\n",
              "      <td>14.5</td>\n",
              "      <td>1</td>\n",
              "      <td>yes</td>\n",
              "    </tr>\n",
              "    <tr>\n",
              "      <th>VIII</th>\n",
              "      <td>Laura</td>\n",
              "      <td>NaN</td>\n",
              "      <td>1</td>\n",
              "      <td>no</td>\n",
              "    </tr>\n",
              "    <tr>\n",
              "      <th>IX</th>\n",
              "      <td>Kevin</td>\n",
              "      <td>8.0</td>\n",
              "      <td>2</td>\n",
              "      <td>no</td>\n",
              "    </tr>\n",
              "    <tr>\n",
              "      <th>X</th>\n",
              "      <td>Jonas</td>\n",
              "      <td>19.0</td>\n",
              "      <td>1</td>\n",
              "      <td>yes</td>\n",
              "    </tr>\n",
              "  </tbody>\n",
              "</table>\n",
              "</div>"
            ],
            "text/plain": [
              "           name  score  attempts qualify\n",
              "I     Anastasia   12.5         1     yes\n",
              "II         Dima    9.0         3      no\n",
              "III   Katherine   16.5         2     yes\n",
              "IV        James    NaN         3      no\n",
              "V         Emily    9.0         2      no\n",
              "VI      Michael   20.0         3     yes\n",
              "VII     Matthew   14.5         1     yes\n",
              "VIII      Laura    NaN         1      no\n",
              "IX        Kevin    8.0         2      no\n",
              "X         Jonas   19.0         1     yes"
            ]
          },
          "metadata": {
            "tags": []
          },
          "execution_count": 10
        }
      ]
    },
    {
      "cell_type": "markdown",
      "metadata": {
        "id": "5BVXtlmgtEnD"
      },
      "source": [
        "**Ans.12**"
      ]
    },
    {
      "cell_type": "code",
      "metadata": {
        "id": "rxaB9Md4tEKw",
        "outputId": "ea9258e2-5cf1-4e02-c753-becb4b001f8f",
        "colab": {
          "base_uri": "https://localhost:8080/"
        }
      },
      "source": [
        "print(df.iloc[0:5,:])"
      ],
      "execution_count": 11,
      "outputs": [
        {
          "output_type": "stream",
          "text": [
            "          name  score  attempts qualify\n",
            "I    Anastasia   12.5         1     yes\n",
            "II        Dima    9.0         3      no\n",
            "III  Katherine   16.5         2     yes\n",
            "IV       James    NaN         3      no\n",
            "V        Emily    9.0         2      no\n"
          ],
          "name": "stdout"
        }
      ]
    },
    {
      "cell_type": "markdown",
      "metadata": {
        "id": "98qUjti8uDcr"
      },
      "source": [
        "**Ans.13**"
      ]
    },
    {
      "cell_type": "code",
      "metadata": {
        "id": "zoiQoClEtebL",
        "outputId": "21077464-c876-4114-e59e-0825e1f1bfb4",
        "colab": {
          "base_uri": "https://localhost:8080/"
        }
      },
      "source": [
        "print(df.iloc[0:,0:2])"
      ],
      "execution_count": 12,
      "outputs": [
        {
          "output_type": "stream",
          "text": [
            "           name  score\n",
            "I     Anastasia   12.5\n",
            "II         Dima    9.0\n",
            "III   Katherine   16.5\n",
            "IV        James    NaN\n",
            "V         Emily    9.0\n",
            "VI      Michael   20.0\n",
            "VII     Matthew   14.5\n",
            "VIII      Laura    NaN\n",
            "IX        Kevin    8.0\n",
            "X         Jonas   19.0\n"
          ],
          "name": "stdout"
        }
      ]
    },
    {
      "cell_type": "markdown",
      "metadata": {
        "id": "FrJu8IQOuGdB"
      },
      "source": [
        "**Ans.14**"
      ]
    },
    {
      "cell_type": "code",
      "metadata": {
        "id": "vQVhTpbst91m",
        "outputId": "3a8e168c-4f66-46b1-d4cc-d59cd76520cc",
        "colab": {
          "base_uri": "https://localhost:8080/"
        }
      },
      "source": [
        "print(df.iloc[[3, 5, 6, 8], [0, 1]])"
      ],
      "execution_count": 17,
      "outputs": [
        {
          "output_type": "stream",
          "text": [
            "        name  score\n",
            "IV     James    NaN\n",
            "VI   Michael   20.0\n",
            "VII  Matthew   14.5\n",
            "IX     Kevin    8.0\n"
          ],
          "name": "stdout"
        }
      ]
    },
    {
      "cell_type": "markdown",
      "metadata": {
        "id": "glamisUFwDDD"
      },
      "source": [
        "**Ans.15**"
      ]
    },
    {
      "cell_type": "code",
      "metadata": {
        "id": "B-YC0-4lwCFc",
        "outputId": "a1c57457-a420-4d00-92c7-fff7b9419eb9",
        "colab": {
          "base_uri": "https://localhost:8080/"
        }
      },
      "source": [
        "print(df[df['score'].between(15, 20)])"
      ],
      "execution_count": 13,
      "outputs": [
        {
          "output_type": "stream",
          "text": [
            "          name  score  attempts qualify\n",
            "III  Katherine   16.5         2     yes\n",
            "VI     Michael   20.0         3     yes\n",
            "X        Jonas   19.0         1     yes\n"
          ],
          "name": "stdout"
        }
      ]
    }
  ]
}