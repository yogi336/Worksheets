{
 "cells": [
  {
   "cell_type": "markdown",
   "metadata": {},
   "source": [
    "question 11"
   ]
  },
  {
   "cell_type": "code",
   "execution_count": 1,
   "metadata": {},
   "outputs": [
    {
     "name": "stdout",
     "output_type": "stream",
     "text": [
      "Enter a number: 12\n",
      "The factorial of 12 is 479001600\n"
     ]
    }
   ],
   "source": [
    "num = int(input(\"Enter a number: \"))\n",
    "\n",
    "factorial = 1\n",
    "\n",
    "# check if the number is negative, positive or zero\n",
    "if num < 0:\n",
    "   print(\"Sorry, factorial does not exist for negative numbers\")\n",
    "elif num == 0:\n",
    "   print(\"The factorial of 0 is 1\")\n",
    "else:\n",
    "   for i in range(1,num + 1):\n",
    "       factorial = factorial*i\n",
    "   print(\"The factorial of\",num,\"is\",factorial)"
   ]
  },
  {
   "cell_type": "markdown",
   "metadata": {},
   "source": [
    "question 12"
   ]
  },
  {
   "cell_type": "code",
   "execution_count": 3,
   "metadata": {},
   "outputs": [
    {
     "name": "stdout",
     "output_type": "stream",
     "text": [
      "Enter a number: 68\n",
      "68 is not a prime number\n",
      "2 times 34 is 68\n"
     ]
    }
   ],
   "source": [
    "num = int(input(\"Enter a number: \"))\n",
    "\n",
    "# prime numbers are greater than 1\n",
    "if num > 1:\n",
    "   # check for factors\n",
    "   for i in range(2,num):\n",
    "       if (num % i) == 0:\n",
    "           print(num,\"is not a prime number\")\n",
    "           print(i,\"times\",num//i,\"is\",num)\n",
    "           break\n",
    "   else:\n",
    "       print(num,\"is a prime number\")\n",
    "       \n",
    "# if input number is less than\n",
    "# or equal to 1, it is not prime\n",
    "else:\n",
    "   print(num,\"is not a prime number\")"
   ]
  },
  {
   "cell_type": "markdown",
   "metadata": {},
   "source": [
    "question 13"
   ]
  },
  {
   "cell_type": "code",
   "execution_count": 4,
   "metadata": {},
   "outputs": [
    {
     "name": "stdout",
     "output_type": "stream",
     "text": [
      "Please enter your own String : awadhesh\n",
      "This is Not a Palindrome String\n"
     ]
    }
   ],
   "source": [
    "# Python Program to Check a Given String is Palindrome or Not\n",
    "\n",
    "string = input(\"Please enter your own String : \")\n",
    "\n",
    "if(string == string[:: - 1]):\n",
    "   print(\"This is a Palindrome String\")\n",
    "else:\n",
    "   print(\"This is Not a Palindrome String\")"
   ]
  },
  {
   "cell_type": "markdown",
   "metadata": {},
   "source": [
    "question 14"
   ]
  },
  {
   "cell_type": "code",
   "execution_count": 5,
   "metadata": {},
   "outputs": [
    {
     "name": "stdout",
     "output_type": "stream",
     "text": [
      "Please Enter the Width of a Right Angled Triangle: 12\n",
      "Please Enter the Height of a Right Angled Triangle: 13\n",
      "\n",
      " Area of a right angled triangle is: 78.00\n",
      " Other side of right angled triangle is: 17.69\n",
      " Perimeter of right angled triangle is: 42.69\n"
     ]
    }
   ],
   "source": [
    "# Python Program to find Area of a Right Angled Triangle\n",
    "import math\n",
    "\n",
    "width = float(input('Please Enter the Width of a Right Angled Triangle: '))\n",
    "height = float(input('Please Enter the Height of a Right Angled Triangle: '))\n",
    "\n",
    "# calculate the area\n",
    "Area = 0.5 * width * height\n",
    "\n",
    "# calculate the Third Side\n",
    "c = math.sqrt((width*width) + (height*height))\n",
    "\n",
    "# calculate the Perimeter\n",
    "Perimeter = width + height + c\n",
    "\n",
    "print(\"\\n Area of a right angled triangle is: %.2f\" %Area)\n",
    "print(\" Other side of right angled triangle is: %.2f\" %c)\n",
    "print(\" Perimeter of right angled triangle is: %.2f\" %Perimeter)"
   ]
  },
  {
   "cell_type": "markdown",
   "metadata": {},
   "source": [
    "question 15"
   ]
  },
  {
   "cell_type": "code",
   "execution_count": 9,
   "metadata": {},
   "outputs": [
    {
     "name": "stdout",
     "output_type": "stream",
     "text": [
      "Enter string:modi ji\n",
      "Number of words in the string:\n",
      "2\n",
      "Number of characters in the string:\n",
      "7\n"
     ]
    }
   ],
   "source": [
    "\n",
    "string=input(\"Enter string:\")\n",
    "char=0\n",
    "word=1\n",
    "for i in string:\n",
    "      char=char+1\n",
    "      if(i==' '):\n",
    "            word=word+1\n",
    "print(\"Number of words in the string:\")\n",
    "print(word)\n",
    "print(\"Number of characters in the string:\")\n",
    "print(char)"
   ]
  },
  {
   "cell_type": "code",
   "execution_count": null,
   "metadata": {},
   "outputs": [],
   "source": []
  }
 ],
 "metadata": {
  "kernelspec": {
   "display_name": "Python 3",
   "language": "python",
   "name": "python3"
  },
  "language_info": {
   "codemirror_mode": {
    "name": "ipython",
    "version": 3
   },
   "file_extension": ".py",
   "mimetype": "text/x-python",
   "name": "python",
   "nbconvert_exporter": "python",
   "pygments_lexer": "ipython3",
   "version": "3.7.6"
  }
 },
 "nbformat": 4,
 "nbformat_minor": 4
}
